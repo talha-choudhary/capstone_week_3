{
    "cells": [
        {
            "cell_type": "markdown",
            "metadata": {},
            "source": "# Capstone Project - The Battle of Neighborhoods"
        },
        {
            "cell_type": "markdown",
            "metadata": {},
            "source": "\n### Data Section <br>\nLondon is one of the most ethnically diverse cities in the world. At the 2011 census, London had a population of 8,173,941. Of this number, 44.9% were White British. 37% of the population were born outside the UK, including 24.5% born outside of Europe.<br> <br>\nThe demography of London is analysed by the Office for National Statistic and data is produced for each of the Greater London wards, the City of London and the 32 London boroughs, the Inner London and Outer London statistical sub-regions, each of the Parliamentary constituencies in London, and for all of Greater London as a whole.<br><br>\nFor our fashion store problem, we will focus on the Boroughs of London and work on getting the data from all the Boroughs. There are 32 London Boroughs with a population of around 150,000 to 300,000.<br><br>\nTo solve our problem of finding a best location to open an Indian fashion store in London, we need to datasets based on various parameters such as :\n1.\tList of **areas of London** available at: https://en.wikipedia.org/wiki/List_of_areas_of_London<br>\n2.\tThe latitudes and longitudes of those areas which the done with the help of **geopy.geocoders** library in python<br>\n3.\tPopulation of target audience in all the **boroughs of London** based on their **ethnicity** at **London Datastore**, which is a free and open data-sharing portal where anyone can access data relating to the city. The data is available in XLS and CSV format, which we can download and can use as-is for solving our problem. https://data.london.gov.uk/dataset/ethnic-groups-borough<br>\n"
        },
        {
            "cell_type": "markdown",
            "metadata": {},
            "source": "The cleansed data will then be used alongside **Foursquare** data, which is readily available. Foursquare location data will be leveraged to explore or compare **neighbourhoods around London**.<br><br>\nData Science Workflow:<br>\n1.\tGet the population in borough based on ethnicity<br>\n2.\tClean the dataset and find the borough with the highest population of Asians.<br>\n3.\tSelect the borough with highest population of Asian as preferred location for the store<br>\n4.\tGet the list of all the boroughs with their latitudes and longitudes<br>\n5.\tPlot all the neighbourhoods on a map<br>\n6.\tGet all the neighbourhoods of the selected borough with their latitudes and longitudes<br>\n7.\tVisualize the neighbourhood of the borough<br>\n8.\tExplore the all the neighbourhood with FourSquare API<br>\n9.\tAnalyse each neighbourhood of selected borough<br>\n10.\tDisplay the top ten venues of each neighbourhood<br>\n11.\tCompare each neighbourhood venues for caf\u00e9, Indian restaurant and parks<br>\n12.\tDisplaying selected neighbourhoods of borough on map <br>\n13.\tOutcome and conclusion\n"
        },
        {
            "cell_type": "markdown",
            "metadata": {},
            "source": "#### importing required libararies"
        },
        {
            "cell_type": "code",
            "execution_count": 3,
            "metadata": {},
            "outputs": [
                {
                    "name": "stdout",
                    "output_type": "stream",
                    "text": "Libraries imported.\n"
                }
            ],
            "source": "# Import libraries\nimport numpy as np # library to handle data in a vectorized manner\nimport json # library to handle JSON files\nimport pandas as pd\n\n#!conda install -c conda-forge geopy --yes \nfrom geopy.geocoders import Nominatim # convert an address into latitude and longitude values\n\nimport requests # library to handle requests\nfrom pandas.io.json import json_normalize # tranform JSON file into a pandas dataframe\n\n# Matplotlib and associated plotting modules\nimport matplotlib.pyplot as plt\nimport matplotlib.cm as cm\nimport matplotlib.colors as colors\n\nfrom bs4 import BeautifulSoup\nimport requests\n\n# Import k-means from clustering stage\nfrom sklearn.cluster import KMeans\n\n#!conda install -c conda-forge folium=0.5.0 --yes \nimport folium # map rendering library\n\nprint('Libraries imported.')"
        },
        {
            "cell_type": "markdown",
            "metadata": {},
            "source": "### downloading the enthnic gropus by borough dataset "
        },
        {
            "cell_type": "code",
            "execution_count": 132,
            "metadata": {},
            "outputs": [
                {
                    "name": "stdout",
                    "output_type": "stream",
                    "text": "--2020-06-19 19:04:29--  https://data.london.gov.uk/dataset/ethnic-groups-borough\nResolving data.london.gov.uk (data.london.gov.uk)... 99.86.109.72, 99.86.109.39, 99.86.109.57, ...\nConnecting to data.london.gov.uk (data.london.gov.uk)|99.86.109.72|:443... connected.\nHTTP request sent, awaiting response... 200 OK\nLength: unspecified [text/html]\nSaving to: \u2018ethnic-groups-by-borough.xls\u2019\n\n    [ <=>                                   ] 138,203     --.-K/s   in 0.03s   \n\n2020-06-19 19:04:29 (3.97 MB/s) - \u2018ethnic-groups-by-borough.xls\u2019 saved [138203]\n\n"
                }
            ],
            "source": "!wget -O ethnic-groups-by-borough.xls https://data.london.gov.uk/dataset/ethnic-groups-borough"
        },
        {
            "cell_type": "markdown",
            "metadata": {},
            "source": "#### Acessing the data set via watson studio"
        },
        {
            "cell_type": "code",
            "execution_count": 109,
            "metadata": {},
            "outputs": [],
            "source": "# The code was removed by Watson Studio for sharing."
        },
        {
            "cell_type": "markdown",
            "metadata": {},
            "source": "#### getting data into pandas dataframe "
        },
        {
            "cell_type": "code",
            "execution_count": 110,
            "metadata": {},
            "outputs": [],
            "source": "df= pd.read_excel(streaming_body_3, sheet_name='2018',header=1)"
        },
        {
            "cell_type": "code",
            "execution_count": 111,
            "metadata": {
                "scrolled": true
            },
            "outputs": [
                {
                    "data": {
                        "text/html": "<div>\n<style scoped>\n    .dataframe tbody tr th:only-of-type {\n        vertical-align: middle;\n    }\n\n    .dataframe tbody tr th {\n        vertical-align: top;\n    }\n\n    .dataframe thead th {\n        text-align: right;\n    }\n</style>\n<table border=\"1\" class=\"dataframe\">\n  <thead>\n    <tr style=\"text-align: right;\">\n      <th></th>\n      <th>Unnamed: 0</th>\n      <th>Unnamed: 1</th>\n      <th>White</th>\n      <th>Asian</th>\n      <th>Black</th>\n      <th>Mixed/ Other</th>\n      <th>Total</th>\n      <th>Unnamed: 7</th>\n      <th>White.1</th>\n      <th>Asian.1</th>\n      <th>Black.1</th>\n      <th>Mixed/ Other.1</th>\n      <th>Total.1</th>\n    </tr>\n  </thead>\n  <tbody>\n    <tr>\n      <th>0</th>\n      <td>NaN</td>\n      <td>NaN</td>\n      <td>NaN</td>\n      <td>NaN</td>\n      <td>NaN</td>\n      <td>NaN</td>\n      <td>NaN</td>\n      <td>NaN</td>\n      <td>NaN</td>\n      <td>NaN</td>\n      <td>NaN</td>\n      <td>NaN</td>\n      <td>NaN</td>\n    </tr>\n    <tr>\n      <th>1</th>\n      <td>E09000001</td>\n      <td>City of London</td>\n      <td>-</td>\n      <td>-</td>\n      <td>-</td>\n      <td>-</td>\n      <td>9000.0</td>\n      <td>NaN</td>\n      <td>-</td>\n      <td>-</td>\n      <td>-</td>\n      <td>-</td>\n      <td>6000.0</td>\n    </tr>\n    <tr>\n      <th>2</th>\n      <td>E09000002</td>\n      <td>Barking and Dagenham</td>\n      <td>109000</td>\n      <td>54000</td>\n      <td>36000</td>\n      <td>15000</td>\n      <td>215000.0</td>\n      <td>NaN</td>\n      <td>11000</td>\n      <td>8000</td>\n      <td>6000</td>\n      <td>4000</td>\n      <td>15000.0</td>\n    </tr>\n    <tr>\n      <th>3</th>\n      <td>E09000003</td>\n      <td>Barnet</td>\n      <td>250000</td>\n      <td>57000</td>\n      <td>30000</td>\n      <td>54000</td>\n      <td>390000.0</td>\n      <td>NaN</td>\n      <td>22000</td>\n      <td>10000</td>\n      <td>7000</td>\n      <td>10000</td>\n      <td>27000.0</td>\n    </tr>\n    <tr>\n      <th>4</th>\n      <td>E09000004</td>\n      <td>Bexley</td>\n      <td>195000</td>\n      <td>17000</td>\n      <td>21000</td>\n      <td>15000</td>\n      <td>248000.0</td>\n      <td>NaN</td>\n      <td>15000</td>\n      <td>5000</td>\n      <td>5000</td>\n      <td>4000</td>\n      <td>17000.0</td>\n    </tr>\n  </tbody>\n</table>\n</div>",
                        "text/plain": "  Unnamed: 0            Unnamed: 1   White  Asian  Black Mixed/ Other  \\\n0        NaN                   NaN     NaN    NaN    NaN          NaN   \n1  E09000001        City of London       -      -      -            -   \n2  E09000002  Barking and Dagenham  109000  54000  36000        15000   \n3  E09000003                Barnet  250000  57000  30000        54000   \n4  E09000004                Bexley  195000  17000  21000        15000   \n\n      Total  Unnamed: 7 White.1 Asian.1 Black.1 Mixed/ Other.1  Total.1  \n0       NaN         NaN     NaN     NaN     NaN            NaN      NaN  \n1    9000.0         NaN       -       -       -              -   6000.0  \n2  215000.0         NaN   11000    8000    6000           4000  15000.0  \n3  390000.0         NaN   22000   10000    7000          10000  27000.0  \n4  248000.0         NaN   15000    5000    5000           4000  17000.0  "
                    },
                    "execution_count": 111,
                    "metadata": {},
                    "output_type": "execute_result"
                }
            ],
            "source": "df.head()"
        },
        {
            "cell_type": "markdown",
            "metadata": {},
            "source": "###  Clean the dataset ."
        },
        {
            "cell_type": "markdown",
            "metadata": {},
            "source": "#### renaming columns"
        },
        {
            "cell_type": "code",
            "execution_count": 112,
            "metadata": {},
            "outputs": [
                {
                    "data": {
                        "text/html": "<div>\n<style scoped>\n    .dataframe tbody tr th:only-of-type {\n        vertical-align: middle;\n    }\n\n    .dataframe tbody tr th {\n        vertical-align: top;\n    }\n\n    .dataframe thead th {\n        text-align: right;\n    }\n</style>\n<table border=\"1\" class=\"dataframe\">\n  <thead>\n    <tr style=\"text-align: right;\">\n      <th></th>\n      <th>code</th>\n      <th>area</th>\n      <th>White</th>\n      <th>Asian</th>\n      <th>Black</th>\n      <th>Mixed/ Other</th>\n      <th>Total</th>\n      <th>Unnamed: 7</th>\n      <th>White.1</th>\n      <th>Asian.1</th>\n      <th>Black.1</th>\n      <th>Mixed/ Other.1</th>\n      <th>Total.1</th>\n    </tr>\n  </thead>\n  <tbody>\n    <tr>\n      <th>0</th>\n      <td>NaN</td>\n      <td>NaN</td>\n      <td>NaN</td>\n      <td>NaN</td>\n      <td>NaN</td>\n      <td>NaN</td>\n      <td>NaN</td>\n      <td>NaN</td>\n      <td>NaN</td>\n      <td>NaN</td>\n      <td>NaN</td>\n      <td>NaN</td>\n      <td>NaN</td>\n    </tr>\n    <tr>\n      <th>1</th>\n      <td>E09000001</td>\n      <td>City of London</td>\n      <td>-</td>\n      <td>-</td>\n      <td>-</td>\n      <td>-</td>\n      <td>9000.0</td>\n      <td>NaN</td>\n      <td>-</td>\n      <td>-</td>\n      <td>-</td>\n      <td>-</td>\n      <td>6000.0</td>\n    </tr>\n    <tr>\n      <th>2</th>\n      <td>E09000002</td>\n      <td>Barking and Dagenham</td>\n      <td>109000</td>\n      <td>54000</td>\n      <td>36000</td>\n      <td>15000</td>\n      <td>215000.0</td>\n      <td>NaN</td>\n      <td>11000</td>\n      <td>8000</td>\n      <td>6000</td>\n      <td>4000</td>\n      <td>15000.0</td>\n    </tr>\n    <tr>\n      <th>3</th>\n      <td>E09000003</td>\n      <td>Barnet</td>\n      <td>250000</td>\n      <td>57000</td>\n      <td>30000</td>\n      <td>54000</td>\n      <td>390000.0</td>\n      <td>NaN</td>\n      <td>22000</td>\n      <td>10000</td>\n      <td>7000</td>\n      <td>10000</td>\n      <td>27000.0</td>\n    </tr>\n    <tr>\n      <th>4</th>\n      <td>E09000004</td>\n      <td>Bexley</td>\n      <td>195000</td>\n      <td>17000</td>\n      <td>21000</td>\n      <td>15000</td>\n      <td>248000.0</td>\n      <td>NaN</td>\n      <td>15000</td>\n      <td>5000</td>\n      <td>5000</td>\n      <td>4000</td>\n      <td>17000.0</td>\n    </tr>\n  </tbody>\n</table>\n</div>",
                        "text/plain": "        code                  area   White  Asian  Black Mixed/ Other  \\\n0        NaN                   NaN     NaN    NaN    NaN          NaN   \n1  E09000001        City of London       -      -      -            -   \n2  E09000002  Barking and Dagenham  109000  54000  36000        15000   \n3  E09000003                Barnet  250000  57000  30000        54000   \n4  E09000004                Bexley  195000  17000  21000        15000   \n\n      Total  Unnamed: 7 White.1 Asian.1 Black.1 Mixed/ Other.1  Total.1  \n0       NaN         NaN     NaN     NaN     NaN            NaN      NaN  \n1    9000.0         NaN       -       -       -              -   6000.0  \n2  215000.0         NaN   11000    8000    6000           4000  15000.0  \n3  390000.0         NaN   22000   10000    7000          10000  27000.0  \n4  248000.0         NaN   15000    5000    5000           4000  17000.0  "
                    },
                    "execution_count": 112,
                    "metadata": {},
                    "output_type": "execute_result"
                }
            ],
            "source": "df.rename(columns={\"Unnamed: 0\":\"code\",\"Unnamed: 1\":\"area\"},inplace= True)\ndf.head()"
        },
        {
            "cell_type": "markdown",
            "metadata": {},
            "source": "##### droping first to rows as they ar not important"
        },
        {
            "cell_type": "code",
            "execution_count": 113,
            "metadata": {},
            "outputs": [
                {
                    "data": {
                        "text/html": "<div>\n<style scoped>\n    .dataframe tbody tr th:only-of-type {\n        vertical-align: middle;\n    }\n\n    .dataframe tbody tr th {\n        vertical-align: top;\n    }\n\n    .dataframe thead th {\n        text-align: right;\n    }\n</style>\n<table border=\"1\" class=\"dataframe\">\n  <thead>\n    <tr style=\"text-align: right;\">\n      <th></th>\n      <th>code</th>\n      <th>area</th>\n      <th>White</th>\n      <th>Asian</th>\n      <th>Black</th>\n      <th>Mixed/ Other</th>\n      <th>Total</th>\n      <th>Unnamed: 7</th>\n      <th>White.1</th>\n      <th>Asian.1</th>\n      <th>Black.1</th>\n      <th>Mixed/ Other.1</th>\n      <th>Total.1</th>\n    </tr>\n  </thead>\n  <tbody>\n    <tr>\n      <th>2</th>\n      <td>E09000002</td>\n      <td>Barking and Dagenham</td>\n      <td>109000</td>\n      <td>54000</td>\n      <td>36000</td>\n      <td>15000</td>\n      <td>215000.0</td>\n      <td>NaN</td>\n      <td>11000</td>\n      <td>8000</td>\n      <td>6000</td>\n      <td>4000</td>\n      <td>15000.0</td>\n    </tr>\n    <tr>\n      <th>3</th>\n      <td>E09000003</td>\n      <td>Barnet</td>\n      <td>250000</td>\n      <td>57000</td>\n      <td>30000</td>\n      <td>54000</td>\n      <td>390000.0</td>\n      <td>NaN</td>\n      <td>22000</td>\n      <td>10000</td>\n      <td>7000</td>\n      <td>10000</td>\n      <td>27000.0</td>\n    </tr>\n    <tr>\n      <th>4</th>\n      <td>E09000004</td>\n      <td>Bexley</td>\n      <td>195000</td>\n      <td>17000</td>\n      <td>21000</td>\n      <td>15000</td>\n      <td>248000.0</td>\n      <td>NaN</td>\n      <td>15000</td>\n      <td>5000</td>\n      <td>5000</td>\n      <td>4000</td>\n      <td>17000.0</td>\n    </tr>\n    <tr>\n      <th>5</th>\n      <td>E09000005</td>\n      <td>Brent</td>\n      <td>102000</td>\n      <td>107000</td>\n      <td>62000</td>\n      <td>56000</td>\n      <td>328000.0</td>\n      <td>NaN</td>\n      <td>13000</td>\n      <td>13000</td>\n      <td>10000</td>\n      <td>9000</td>\n      <td>23000.0</td>\n    </tr>\n    <tr>\n      <th>6</th>\n      <td>E09000006</td>\n      <td>Bromley</td>\n      <td>267000</td>\n      <td>15000</td>\n      <td>21000</td>\n      <td>28000</td>\n      <td>330000.0</td>\n      <td>NaN</td>\n      <td>21000</td>\n      <td>5000</td>\n      <td>6000</td>\n      <td>7000</td>\n      <td>24000.0</td>\n    </tr>\n  </tbody>\n</table>\n</div>",
                        "text/plain": "        code                  area   White   Asian  Black Mixed/ Other  \\\n2  E09000002  Barking and Dagenham  109000   54000  36000        15000   \n3  E09000003                Barnet  250000   57000  30000        54000   \n4  E09000004                Bexley  195000   17000  21000        15000   \n5  E09000005                 Brent  102000  107000  62000        56000   \n6  E09000006               Bromley  267000   15000  21000        28000   \n\n      Total  Unnamed: 7 White.1 Asian.1 Black.1 Mixed/ Other.1  Total.1  \n2  215000.0         NaN   11000    8000    6000           4000  15000.0  \n3  390000.0         NaN   22000   10000    7000          10000  27000.0  \n4  248000.0         NaN   15000    5000    5000           4000  17000.0  \n5  328000.0         NaN   13000   13000   10000           9000  23000.0  \n6  330000.0         NaN   21000    5000    6000           7000  24000.0  "
                    },
                    "execution_count": 113,
                    "metadata": {},
                    "output_type": "execute_result"
                }
            ],
            "source": "df.drop(index=[0,1],inplace = True)\ndf.head()"
        },
        {
            "cell_type": "markdown",
            "metadata": {},
            "source": "##### droping the empty column"
        },
        {
            "cell_type": "code",
            "execution_count": 114,
            "metadata": {},
            "outputs": [
                {
                    "data": {
                        "text/html": "<div>\n<style scoped>\n    .dataframe tbody tr th:only-of-type {\n        vertical-align: middle;\n    }\n\n    .dataframe tbody tr th {\n        vertical-align: top;\n    }\n\n    .dataframe thead th {\n        text-align: right;\n    }\n</style>\n<table border=\"1\" class=\"dataframe\">\n  <thead>\n    <tr style=\"text-align: right;\">\n      <th></th>\n      <th>code</th>\n      <th>area</th>\n      <th>White</th>\n      <th>Asian</th>\n      <th>Black</th>\n      <th>Mixed/ Other</th>\n      <th>Total</th>\n      <th>White.1</th>\n      <th>Asian.1</th>\n      <th>Black.1</th>\n      <th>Mixed/ Other.1</th>\n      <th>Total.1</th>\n    </tr>\n  </thead>\n  <tbody>\n    <tr>\n      <th>2</th>\n      <td>E09000002</td>\n      <td>Barking and Dagenham</td>\n      <td>109000</td>\n      <td>54000</td>\n      <td>36000</td>\n      <td>15000</td>\n      <td>215000.0</td>\n      <td>11000</td>\n      <td>8000</td>\n      <td>6000</td>\n      <td>4000</td>\n      <td>15000.0</td>\n    </tr>\n    <tr>\n      <th>3</th>\n      <td>E09000003</td>\n      <td>Barnet</td>\n      <td>250000</td>\n      <td>57000</td>\n      <td>30000</td>\n      <td>54000</td>\n      <td>390000.0</td>\n      <td>22000</td>\n      <td>10000</td>\n      <td>7000</td>\n      <td>10000</td>\n      <td>27000.0</td>\n    </tr>\n    <tr>\n      <th>4</th>\n      <td>E09000004</td>\n      <td>Bexley</td>\n      <td>195000</td>\n      <td>17000</td>\n      <td>21000</td>\n      <td>15000</td>\n      <td>248000.0</td>\n      <td>15000</td>\n      <td>5000</td>\n      <td>5000</td>\n      <td>4000</td>\n      <td>17000.0</td>\n    </tr>\n    <tr>\n      <th>5</th>\n      <td>E09000005</td>\n      <td>Brent</td>\n      <td>102000</td>\n      <td>107000</td>\n      <td>62000</td>\n      <td>56000</td>\n      <td>328000.0</td>\n      <td>13000</td>\n      <td>13000</td>\n      <td>10000</td>\n      <td>9000</td>\n      <td>23000.0</td>\n    </tr>\n    <tr>\n      <th>6</th>\n      <td>E09000006</td>\n      <td>Bromley</td>\n      <td>267000</td>\n      <td>15000</td>\n      <td>21000</td>\n      <td>28000</td>\n      <td>330000.0</td>\n      <td>21000</td>\n      <td>5000</td>\n      <td>6000</td>\n      <td>7000</td>\n      <td>24000.0</td>\n    </tr>\n  </tbody>\n</table>\n</div>",
                        "text/plain": "        code                  area   White   Asian  Black Mixed/ Other  \\\n2  E09000002  Barking and Dagenham  109000   54000  36000        15000   \n3  E09000003                Barnet  250000   57000  30000        54000   \n4  E09000004                Bexley  195000   17000  21000        15000   \n5  E09000005                 Brent  102000  107000  62000        56000   \n6  E09000006               Bromley  267000   15000  21000        28000   \n\n      Total White.1 Asian.1 Black.1 Mixed/ Other.1  Total.1  \n2  215000.0   11000    8000    6000           4000  15000.0  \n3  390000.0   22000   10000    7000          10000  27000.0  \n4  248000.0   15000    5000    5000           4000  17000.0  \n5  328000.0   13000   13000   10000           9000  23000.0  \n6  330000.0   21000    5000    6000           7000  24000.0  "
                    },
                    "execution_count": 114,
                    "metadata": {},
                    "output_type": "execute_result"
                }
            ],
            "source": "df.drop(columns=\"Unnamed: 7\", axis=1,inplace = True)\ndf.head()"
        },
        {
            "cell_type": "markdown",
            "metadata": {},
            "source": "#### droping rows that have NaN Data"
        },
        {
            "cell_type": "code",
            "execution_count": 115,
            "metadata": {},
            "outputs": [
                {
                    "data": {
                        "text/html": "<div>\n<style scoped>\n    .dataframe tbody tr th:only-of-type {\n        vertical-align: middle;\n    }\n\n    .dataframe tbody tr th {\n        vertical-align: top;\n    }\n\n    .dataframe thead th {\n        text-align: right;\n    }\n</style>\n<table border=\"1\" class=\"dataframe\">\n  <thead>\n    <tr style=\"text-align: right;\">\n      <th></th>\n      <th>code</th>\n      <th>area</th>\n      <th>White</th>\n      <th>Asian</th>\n      <th>Black</th>\n      <th>Mixed/ Other</th>\n      <th>Total</th>\n      <th>White.1</th>\n      <th>Asian.1</th>\n      <th>Black.1</th>\n      <th>Mixed/ Other.1</th>\n      <th>Total.1</th>\n    </tr>\n  </thead>\n  <tbody>\n    <tr>\n      <th>2</th>\n      <td>E09000002</td>\n      <td>Barking and Dagenham</td>\n      <td>109000</td>\n      <td>54000</td>\n      <td>36000</td>\n      <td>15000</td>\n      <td>215000.0</td>\n      <td>11000</td>\n      <td>8000</td>\n      <td>6000</td>\n      <td>4000</td>\n      <td>15000.0</td>\n    </tr>\n    <tr>\n      <th>3</th>\n      <td>E09000003</td>\n      <td>Barnet</td>\n      <td>250000</td>\n      <td>57000</td>\n      <td>30000</td>\n      <td>54000</td>\n      <td>390000.0</td>\n      <td>22000</td>\n      <td>10000</td>\n      <td>7000</td>\n      <td>10000</td>\n      <td>27000.0</td>\n    </tr>\n    <tr>\n      <th>4</th>\n      <td>E09000004</td>\n      <td>Bexley</td>\n      <td>195000</td>\n      <td>17000</td>\n      <td>21000</td>\n      <td>15000</td>\n      <td>248000.0</td>\n      <td>15000</td>\n      <td>5000</td>\n      <td>5000</td>\n      <td>4000</td>\n      <td>17000.0</td>\n    </tr>\n    <tr>\n      <th>5</th>\n      <td>E09000005</td>\n      <td>Brent</td>\n      <td>102000</td>\n      <td>107000</td>\n      <td>62000</td>\n      <td>56000</td>\n      <td>328000.0</td>\n      <td>13000</td>\n      <td>13000</td>\n      <td>10000</td>\n      <td>9000</td>\n      <td>23000.0</td>\n    </tr>\n    <tr>\n      <th>6</th>\n      <td>E09000006</td>\n      <td>Bromley</td>\n      <td>267000</td>\n      <td>15000</td>\n      <td>21000</td>\n      <td>28000</td>\n      <td>330000.0</td>\n      <td>21000</td>\n      <td>5000</td>\n      <td>6000</td>\n      <td>7000</td>\n      <td>24000.0</td>\n    </tr>\n  </tbody>\n</table>\n</div>",
                        "text/plain": "        code                  area   White   Asian  Black Mixed/ Other  \\\n2  E09000002  Barking and Dagenham  109000   54000  36000        15000   \n3  E09000003                Barnet  250000   57000  30000        54000   \n4  E09000004                Bexley  195000   17000  21000        15000   \n5  E09000005                 Brent  102000  107000  62000        56000   \n6  E09000006               Bromley  267000   15000  21000        28000   \n\n      Total White.1 Asian.1 Black.1 Mixed/ Other.1  Total.1  \n2  215000.0   11000    8000    6000           4000  15000.0  \n3  390000.0   22000   10000    7000          10000  27000.0  \n4  248000.0   15000    5000    5000           4000  17000.0  \n5  328000.0   13000   13000   10000           9000  23000.0  \n6  330000.0   21000    5000    6000           7000  24000.0  "
                    },
                    "execution_count": 115,
                    "metadata": {},
                    "output_type": "execute_result"
                }
            ],
            "source": "df.dropna()\ndf.head()"
        },
        {
            "cell_type": "markdown",
            "metadata": {},
            "source": "### droping rows after 33rd index as they contain data of places outside london which is not required"
        },
        {
            "cell_type": "code",
            "execution_count": 116,
            "metadata": {},
            "outputs": [],
            "source": "df.drop(df.index[33:],inplace=True)"
        },
        {
            "cell_type": "code",
            "execution_count": 118,
            "metadata": {},
            "outputs": [
                {
                    "data": {
                        "text/html": "<div>\n<style scoped>\n    .dataframe tbody tr th:only-of-type {\n        vertical-align: middle;\n    }\n\n    .dataframe tbody tr th {\n        vertical-align: top;\n    }\n\n    .dataframe thead th {\n        text-align: right;\n    }\n</style>\n<table border=\"1\" class=\"dataframe\">\n  <thead>\n    <tr style=\"text-align: right;\">\n      <th></th>\n      <th>code</th>\n      <th>area</th>\n      <th>White</th>\n      <th>Asian</th>\n      <th>Black</th>\n      <th>Mixed/ Other</th>\n      <th>Total</th>\n      <th>White.1</th>\n      <th>Asian.1</th>\n      <th>Black.1</th>\n      <th>Mixed/ Other.1</th>\n      <th>Total.1</th>\n    </tr>\n  </thead>\n  <tbody>\n    <tr>\n      <th>0</th>\n      <td>E09000002</td>\n      <td>Barking and Dagenham</td>\n      <td>109000</td>\n      <td>54000</td>\n      <td>36000</td>\n      <td>15000</td>\n      <td>215000.0</td>\n      <td>11000</td>\n      <td>8000</td>\n      <td>6000</td>\n      <td>4000</td>\n      <td>15000.0</td>\n    </tr>\n    <tr>\n      <th>1</th>\n      <td>E09000003</td>\n      <td>Barnet</td>\n      <td>250000</td>\n      <td>57000</td>\n      <td>30000</td>\n      <td>54000</td>\n      <td>390000.0</td>\n      <td>22000</td>\n      <td>10000</td>\n      <td>7000</td>\n      <td>10000</td>\n      <td>27000.0</td>\n    </tr>\n    <tr>\n      <th>2</th>\n      <td>E09000004</td>\n      <td>Bexley</td>\n      <td>195000</td>\n      <td>17000</td>\n      <td>21000</td>\n      <td>15000</td>\n      <td>248000.0</td>\n      <td>15000</td>\n      <td>5000</td>\n      <td>5000</td>\n      <td>4000</td>\n      <td>17000.0</td>\n    </tr>\n    <tr>\n      <th>3</th>\n      <td>E09000005</td>\n      <td>Brent</td>\n      <td>102000</td>\n      <td>107000</td>\n      <td>62000</td>\n      <td>56000</td>\n      <td>328000.0</td>\n      <td>13000</td>\n      <td>13000</td>\n      <td>10000</td>\n      <td>9000</td>\n      <td>23000.0</td>\n    </tr>\n    <tr>\n      <th>4</th>\n      <td>E09000006</td>\n      <td>Bromley</td>\n      <td>267000</td>\n      <td>15000</td>\n      <td>21000</td>\n      <td>28000</td>\n      <td>330000.0</td>\n      <td>21000</td>\n      <td>5000</td>\n      <td>6000</td>\n      <td>7000</td>\n      <td>24000.0</td>\n    </tr>\n  </tbody>\n</table>\n</div>",
                        "text/plain": "        code                  area   White   Asian  Black Mixed/ Other  \\\n0  E09000002  Barking and Dagenham  109000   54000  36000        15000   \n1  E09000003                Barnet  250000   57000  30000        54000   \n2  E09000004                Bexley  195000   17000  21000        15000   \n3  E09000005                 Brent  102000  107000  62000        56000   \n4  E09000006               Bromley  267000   15000  21000        28000   \n\n      Total White.1 Asian.1 Black.1 Mixed/ Other.1  Total.1  \n0  215000.0   11000    8000    6000           4000  15000.0  \n1  390000.0   22000   10000    7000          10000  27000.0  \n2  248000.0   15000    5000    5000           4000  17000.0  \n3  328000.0   13000   13000   10000           9000  23000.0  \n4  330000.0   21000    5000    6000           7000  24000.0  "
                    },
                    "execution_count": 118,
                    "metadata": {},
                    "output_type": "execute_result"
                }
            ],
            "source": "df.dropna(inplace= True)\ndf.reset_index(inplace= True, drop= True)\ndf.head()"
        },
        {
            "cell_type": "markdown",
            "metadata": {},
            "source": "#### getting a data frame with boroughs that only contain information of asian population"
        },
        {
            "cell_type": "code",
            "execution_count": 120,
            "metadata": {},
            "outputs": [
                {
                    "data": {
                        "text/html": "<div>\n<style scoped>\n    .dataframe tbody tr th:only-of-type {\n        vertical-align: middle;\n    }\n\n    .dataframe tbody tr th {\n        vertical-align: top;\n    }\n\n    .dataframe thead th {\n        text-align: right;\n    }\n</style>\n<table border=\"1\" class=\"dataframe\">\n  <thead>\n    <tr style=\"text-align: right;\">\n      <th></th>\n      <th>code</th>\n      <th>area</th>\n      <th>Asian</th>\n    </tr>\n  </thead>\n  <tbody>\n    <tr>\n      <th>0</th>\n      <td>E09000002</td>\n      <td>Barking and Dagenham</td>\n      <td>54000</td>\n    </tr>\n    <tr>\n      <th>1</th>\n      <td>E09000003</td>\n      <td>Barnet</td>\n      <td>57000</td>\n    </tr>\n    <tr>\n      <th>2</th>\n      <td>E09000004</td>\n      <td>Bexley</td>\n      <td>17000</td>\n    </tr>\n    <tr>\n      <th>3</th>\n      <td>E09000005</td>\n      <td>Brent</td>\n      <td>107000</td>\n    </tr>\n    <tr>\n      <th>4</th>\n      <td>E09000006</td>\n      <td>Bromley</td>\n      <td>15000</td>\n    </tr>\n  </tbody>\n</table>\n</div>",
                        "text/plain": "        code                  area   Asian\n0  E09000002  Barking and Dagenham   54000\n1  E09000003                Barnet   57000\n2  E09000004                Bexley   17000\n3  E09000005                 Brent  107000\n4  E09000006               Bromley   15000"
                    },
                    "execution_count": 120,
                    "metadata": {},
                    "output_type": "execute_result"
                }
            ],
            "source": "df_asian=df[['code','area','Asian']]\ndf_asian.head()"
        },
        {
            "cell_type": "code",
            "execution_count": 129,
            "metadata": {},
            "outputs": [
                {
                    "name": "stderr",
                    "output_type": "stream",
                    "text": "/opt/conda/envs/Python36/lib/python3.6/site-packages/ipykernel/__main__.py:1: SettingWithCopyWarning: \nA value is trying to be set on a copy of a slice from a DataFrame\n\nSee the caveats in the documentation: http://pandas.pydata.org/pandas-docs/stable/indexing.html#indexing-view-versus-copy\n  if __name__ == '__main__':\n"
                },
                {
                    "data": {
                        "text/html": "<div>\n<style scoped>\n    .dataframe tbody tr th:only-of-type {\n        vertical-align: middle;\n    }\n\n    .dataframe tbody tr th {\n        vertical-align: top;\n    }\n\n    .dataframe thead th {\n        text-align: right;\n    }\n</style>\n<table border=\"1\" class=\"dataframe\">\n  <thead>\n    <tr style=\"text-align: right;\">\n      <th></th>\n      <th>code</th>\n      <th>area</th>\n      <th>Asian</th>\n    </tr>\n  </thead>\n  <tbody>\n    <tr>\n      <th>23</th>\n      <td>E09000025</td>\n      <td>Newham</td>\n      <td>166000</td>\n    </tr>\n    <tr>\n      <th>28</th>\n      <td>E09000030</td>\n      <td>Tower Hamlets</td>\n      <td>128000</td>\n    </tr>\n    <tr>\n      <th>24</th>\n      <td>E09000026</td>\n      <td>Redbridge</td>\n      <td>126000</td>\n    </tr>\n    <tr>\n      <th>3</th>\n      <td>E09000005</td>\n      <td>Brent</td>\n      <td>107000</td>\n    </tr>\n    <tr>\n      <th>15</th>\n      <td>E09000017</td>\n      <td>Hillingdon</td>\n      <td>100000</td>\n    </tr>\n  </tbody>\n</table>\n</div>",
                        "text/plain": "         code           area   Asian\n23  E09000025         Newham  166000\n28  E09000030  Tower Hamlets  128000\n24  E09000026      Redbridge  126000\n3   E09000005          Brent  107000\n15  E09000017     Hillingdon  100000"
                    },
                    "execution_count": 129,
                    "metadata": {},
                    "output_type": "execute_result"
                }
            ],
            "source": "df_asian.sort_values(by=['Asian'],ascending=False,inplace=True)\ndf_asian.head()"
        },
        {
            "cell_type": "markdown",
            "metadata": {},
            "source": "## As the Newham borough is having highest asian population, we will consider this borough as our preferred location for our Indian Fashion store."
        },
        {
            "cell_type": "markdown",
            "metadata": {},
            "source": "#### Read the latitude and longitude coordinates of all Boroughs in London from a Wikipedia link"
        },
        {
            "cell_type": "code",
            "execution_count": 7,
            "metadata": {},
            "outputs": [],
            "source": "URL = \"https://en.wikipedia.org/wiki/List_of_London_boroughs\"\nres = requests.get(URL).text\nsoup = BeautifulSoup(res,'lxml')\n\ndf_list = []\n# print(soup)\nfor items in soup.find('table', class_= 'wikitable sortable').find_all('tr')[1::]:\n    data = items.find_all(['td'])\n    data1 = data[0]\n    data8 = data[8]    \n    try:\n        borough_name = data1.get_text()\n        borough_name = borough_name.split('[')\n        borough_name = borough_name[0]\n        borough_name = borough_name.strip()\n        \n        ll = data8.get_text()\n        ll = ll.split('/')\n        lat_long = ll[2]\n        lat_long = lat_long.split('(')\n        lat_long = lat_long[0]\n        lat_long = lat_long.split(';')\n        latitude = lat_long[0]\n        latitude = latitude.strip()\n        longitude = lat_long[1]\n        longitude = longitude.strip()\n        longitude = longitude.replace(u'\\ufeff', '')\n        latitude = float(latitude)\n        longitude = float(longitude)\n\n#  Append the borough name, latitude and logitude in a list\n        df_list.append((borough_name, latitude, longitude))\n    except IndexError:pass"
        },
        {
            "cell_type": "code",
            "execution_count": 10,
            "metadata": {},
            "outputs": [
                {
                    "name": "stdout",
                    "output_type": "stream",
                    "text": "(32, 3)\n"
                },
                {
                    "data": {
                        "text/html": "<div>\n<style scoped>\n    .dataframe tbody tr th:only-of-type {\n        vertical-align: middle;\n    }\n\n    .dataframe tbody tr th {\n        vertical-align: top;\n    }\n\n    .dataframe thead th {\n        text-align: right;\n    }\n</style>\n<table border=\"1\" class=\"dataframe\">\n  <thead>\n    <tr style=\"text-align: right;\">\n      <th></th>\n      <th>Borough</th>\n      <th>Latitude</th>\n      <th>Longitude</th>\n    </tr>\n  </thead>\n  <tbody>\n    <tr>\n      <th>0</th>\n      <td>Barking and Dagenham</td>\n      <td>51.5607</td>\n      <td>0.1557</td>\n    </tr>\n    <tr>\n      <th>1</th>\n      <td>Barnet</td>\n      <td>51.6252</td>\n      <td>-0.1517</td>\n    </tr>\n    <tr>\n      <th>2</th>\n      <td>Bexley</td>\n      <td>51.4549</td>\n      <td>0.1505</td>\n    </tr>\n    <tr>\n      <th>3</th>\n      <td>Brent</td>\n      <td>51.5588</td>\n      <td>-0.2817</td>\n    </tr>\n    <tr>\n      <th>4</th>\n      <td>Bromley</td>\n      <td>51.4039</td>\n      <td>0.0198</td>\n    </tr>\n  </tbody>\n</table>\n</div>",
                        "text/plain": "                Borough  Latitude  Longitude\n0  Barking and Dagenham   51.5607     0.1557\n1                Barnet   51.6252    -0.1517\n2                Bexley   51.4549     0.1505\n3                 Brent   51.5588    -0.2817\n4               Bromley   51.4039     0.0198"
                    },
                    "execution_count": 10,
                    "metadata": {},
                    "output_type": "execute_result"
                }
            ],
            "source": "df_boroughs = pd.DataFrame(df_list, columns=['Borough', 'Latitude' , 'Longitude'])\nprint(df_boroughs.shape)\ndf_boroughs.head()"
        },
        {
            "cell_type": "code",
            "execution_count": 12,
            "metadata": {},
            "outputs": [
                {
                    "name": "stdout",
                    "output_type": "stream",
                    "text": "Borough       object\nLatitude     float64\nLongitude    float64\ndtype: object\n"
                },
                {
                    "data": {
                        "text/html": "<div>\n<style scoped>\n    .dataframe tbody tr th:only-of-type {\n        vertical-align: middle;\n    }\n\n    .dataframe tbody tr th {\n        vertical-align: top;\n    }\n\n    .dataframe thead th {\n        text-align: right;\n    }\n</style>\n<table border=\"1\" class=\"dataframe\">\n  <thead>\n    <tr style=\"text-align: right;\">\n      <th></th>\n      <th>Borough</th>\n      <th>Latitude</th>\n      <th>Longitude</th>\n    </tr>\n  </thead>\n  <tbody>\n    <tr>\n      <th>23</th>\n      <td>Newham</td>\n      <td>51.5077</td>\n      <td>0.0469</td>\n    </tr>\n  </tbody>\n</table>\n</div>",
                        "text/plain": "   Borough  Latitude  Longitude\n23  Newham   51.5077     0.0469"
                    },
                    "execution_count": 12,
                    "metadata": {},
                    "output_type": "execute_result"
                }
            ],
            "source": "print(df_boroughs.dtypes)\ndf_boroughs.loc[df_boroughs['Borough'] == 'Newham']"
        },
        {
            "cell_type": "markdown",
            "metadata": {},
            "source": "#### Get the Latitude and Longitude of London City using geopy library"
        },
        {
            "cell_type": "code",
            "execution_count": 14,
            "metadata": {},
            "outputs": [
                {
                    "name": "stderr",
                    "output_type": "stream",
                    "text": "/opt/conda/envs/Python36/lib/python3.6/site-packages/ipykernel/__main__.py:3: DeprecationWarning: Using Nominatim with the default \"geopy/1.18.1\" `user_agent` is strongly discouraged, as it violates Nominatim's ToS https://operations.osmfoundation.org/policies/nominatim/ and may possibly cause 403 and 429 HTTP errors. Please specify a custom `user_agent` with `Nominatim(user_agent=\"my-application\")` or by overriding the default `user_agent`: `geopy.geocoders.options.default_user_agent = \"my-application\"`. In geopy 2.0 this will become an exception.\n  app.launch_new_instance()\n"
                },
                {
                    "name": "stdout",
                    "output_type": "stream",
                    "text": "The geograpical coordinate of London City are 51.5073219, -0.1276474.\n"
                }
            ],
            "source": "from geopy.geocoders import Nominatim # convert an address into latitude and longitude values\naddress = 'London, UK'\ngeolocator = Nominatim()\nlocation = geolocator.geocode(address)\nlatitude = location.latitude\nlongitude = location.longitude\nprint('The geograpical coordinate of London City are {}, {}.'.format(latitude, longitude))"
        },
        {
            "cell_type": "markdown",
            "metadata": {},
            "source": "### Preferred location for Indian Fahsion Store - Newham Borough\n##### As the borough Newham is having high asian population, we will consider  only the neighbourhoods of this borough. For that we have to get the latitude and longitude details of all the areas(neighbourhoods) of Newham borough.\n\n#### Read the latitude and longitude coordinates of all the neighborhoods(areas) in Newham Borough"
        },
        {
            "cell_type": "code",
            "execution_count": 20,
            "metadata": {},
            "outputs": [],
            "source": "from urllib.request import urlopen\nimport re\nURL = \"https://en.wikipedia.org/wiki/List_of_areas_of_London\"\nres = requests.get(URL).text\nsoup = BeautifulSoup(res,'lxml')\n\ncodes = []\nareas_list = []\nhref_links_list = []\nfor items in soup.find('table', class_= 'wikitable sortable').find_all('tr')[1::]:\n    data = items.find_all(['td'])\n    data0 = data[0]\n    area_name = data0.text\n\n    data1 = data[1]\n    data1 = data1.text\n    borough = data1.split('[')\n    borough_name = borough[0]\n    data5 = data[5]\n    code = data5.text\n    code = code.strip()\n    \n    if borough_name == 'Newham':\n        codes.append(code)\n        areas_list.append((borough_name,area_name,code))\n\n                \nfor link in soup.findAll('a', attrs={'href': re.compile(\"^https://tools.wmflabs.org\")}):\n            htext = link.text\n            if htext in codes:\n                hlink = link.get('href')\n                href_links_list.append((htext, hlink))"
        },
        {
            "cell_type": "markdown",
            "metadata": {},
            "source": "### Create a DataFrame from the Areas list"
        },
        {
            "cell_type": "code",
            "execution_count": 21,
            "metadata": {},
            "outputs": [
                {
                    "data": {
                        "text/html": "<div>\n<style scoped>\n    .dataframe tbody tr th:only-of-type {\n        vertical-align: middle;\n    }\n\n    .dataframe tbody tr th {\n        vertical-align: top;\n    }\n\n    .dataframe thead th {\n        text-align: right;\n    }\n</style>\n<table border=\"1\" class=\"dataframe\">\n  <thead>\n    <tr style=\"text-align: right;\">\n      <th></th>\n      <th>Borough</th>\n      <th>Area</th>\n      <th>Code</th>\n    </tr>\n  </thead>\n  <tbody>\n    <tr>\n      <th>0</th>\n      <td>Newham</td>\n      <td>Beckton</td>\n      <td>TQ435815</td>\n    </tr>\n    <tr>\n      <th>1</th>\n      <td>Newham</td>\n      <td>Canning Town</td>\n      <td>TQ405815</td>\n    </tr>\n    <tr>\n      <th>2</th>\n      <td>Newham</td>\n      <td>Custom House</td>\n      <td>TQ408807</td>\n    </tr>\n    <tr>\n      <th>3</th>\n      <td>Newham</td>\n      <td>East Ham</td>\n      <td>TQ425835</td>\n    </tr>\n    <tr>\n      <th>4</th>\n      <td>Newham</td>\n      <td>Forest Gate</td>\n      <td>TQ405855</td>\n    </tr>\n  </tbody>\n</table>\n</div>",
                        "text/plain": "  Borough          Area      Code\n0  Newham       Beckton  TQ435815\n1  Newham  Canning Town  TQ405815\n2  Newham  Custom House  TQ408807\n3  Newham      East Ham  TQ425835\n4  Newham   Forest Gate  TQ405855"
                    },
                    "execution_count": 21,
                    "metadata": {},
                    "output_type": "execute_result"
                }
            ],
            "source": "df_areas = pd.DataFrame(areas_list, columns=['Borough', 'Area', 'Code'])\ndf_areas.head()"
        },
        {
            "cell_type": "code",
            "execution_count": 23,
            "metadata": {},
            "outputs": [
                {
                    "name": "stdout",
                    "output_type": "stream",
                    "text": "Index(['Borough', 'Area', 'Code'], dtype='object')\n(14, 3)\n"
                }
            ],
            "source": "print(df_areas.columns)\nprint(df_areas.shape)"
        },
        {
            "cell_type": "markdown",
            "metadata": {},
            "source": "### Create a DataFrame from the list of href links"
        },
        {
            "cell_type": "code",
            "execution_count": 24,
            "metadata": {},
            "outputs": [
                {
                    "name": "stdout",
                    "output_type": "stream",
                    "text": "Index(['Code', 'href'], dtype='object')\n(15, 2)\n"
                },
                {
                    "data": {
                        "text/html": "<div>\n<style scoped>\n    .dataframe tbody tr th:only-of-type {\n        vertical-align: middle;\n    }\n\n    .dataframe tbody tr th {\n        vertical-align: top;\n    }\n\n    .dataframe thead th {\n        text-align: right;\n    }\n</style>\n<table border=\"1\" class=\"dataframe\">\n  <thead>\n    <tr style=\"text-align: right;\">\n      <th></th>\n      <th>Code</th>\n      <th>href</th>\n    </tr>\n  </thead>\n  <tbody>\n    <tr>\n      <th>0</th>\n      <td>TQ435815</td>\n      <td>https://tools.wmflabs.org/geohack/en/51.514205...</td>\n    </tr>\n    <tr>\n      <th>1</th>\n      <td>TQ405815</td>\n      <td>https://tools.wmflabs.org/geohack/en/51.514959...</td>\n    </tr>\n    <tr>\n      <th>2</th>\n      <td>TQ408807</td>\n      <td>https://tools.wmflabs.org/geohack/en/51.507695...</td>\n    </tr>\n    <tr>\n      <th>3</th>\n      <td>TQ425835</td>\n      <td>https://tools.wmflabs.org/geohack/en/51.532429...</td>\n    </tr>\n    <tr>\n      <th>4</th>\n      <td>TQ405855</td>\n      <td>https://tools.wmflabs.org/geohack/en/51.550902...</td>\n    </tr>\n  </tbody>\n</table>\n</div>",
                        "text/plain": "       Code                                               href\n0  TQ435815  https://tools.wmflabs.org/geohack/en/51.514205...\n1  TQ405815  https://tools.wmflabs.org/geohack/en/51.514959...\n2  TQ408807  https://tools.wmflabs.org/geohack/en/51.507695...\n3  TQ425835  https://tools.wmflabs.org/geohack/en/51.532429...\n4  TQ405855  https://tools.wmflabs.org/geohack/en/51.550902..."
                    },
                    "execution_count": 24,
                    "metadata": {},
                    "output_type": "execute_result"
                }
            ],
            "source": "df_links = pd.DataFrame(href_links_list, columns=['Code','href'])\nprint(df_links.columns)\nprint(df_links.shape)\ndf_links.head()"
        },
        {
            "cell_type": "markdown",
            "metadata": {},
            "source": "#### Merge the Areas and href Links DataFrames"
        },
        {
            "cell_type": "code",
            "execution_count": 25,
            "metadata": {},
            "outputs": [
                {
                    "data": {
                        "text/plain": "Index(['href'], dtype='object')"
                    },
                    "execution_count": 25,
                    "metadata": {},
                    "output_type": "execute_result"
                }
            ],
            "source": "cols = df_links.columns.difference(df_areas.columns)\ncols"
        },
        {
            "cell_type": "code",
            "execution_count": 28,
            "metadata": {},
            "outputs": [
                {
                    "name": "stdout",
                    "output_type": "stream",
                    "text": "(15, 4)\n"
                },
                {
                    "data": {
                        "text/html": "<div>\n<style scoped>\n    .dataframe tbody tr th:only-of-type {\n        vertical-align: middle;\n    }\n\n    .dataframe tbody tr th {\n        vertical-align: top;\n    }\n\n    .dataframe thead th {\n        text-align: right;\n    }\n</style>\n<table border=\"1\" class=\"dataframe\">\n  <thead>\n    <tr style=\"text-align: right;\">\n      <th></th>\n      <th>Borough</th>\n      <th>Area</th>\n      <th>Code</th>\n      <th>href</th>\n    </tr>\n  </thead>\n  <tbody>\n    <tr>\n      <th>0</th>\n      <td>Newham</td>\n      <td>Beckton</td>\n      <td>TQ435815</td>\n      <td>https://tools.wmflabs.org/geohack/en/51.514205...</td>\n    </tr>\n    <tr>\n      <th>1</th>\n      <td>Newham</td>\n      <td>Canning Town</td>\n      <td>TQ405815</td>\n      <td>https://tools.wmflabs.org/geohack/en/51.514959...</td>\n    </tr>\n    <tr>\n      <th>2</th>\n      <td>Newham</td>\n      <td>Custom House</td>\n      <td>TQ408807</td>\n      <td>https://tools.wmflabs.org/geohack/en/51.507695...</td>\n    </tr>\n    <tr>\n      <th>3</th>\n      <td>Newham</td>\n      <td>East Ham</td>\n      <td>TQ425835</td>\n      <td>https://tools.wmflabs.org/geohack/en/51.532429...</td>\n    </tr>\n    <tr>\n      <th>4</th>\n      <td>Newham</td>\n      <td>Forest Gate</td>\n      <td>TQ405855</td>\n      <td>https://tools.wmflabs.org/geohack/en/51.550902...</td>\n    </tr>\n    <tr>\n      <th>5</th>\n      <td>Newham</td>\n      <td>Little Ilford</td>\n      <td>TQ435855</td>\n      <td>https://tools.wmflabs.org/geohack/en/51.550147...</td>\n    </tr>\n    <tr>\n      <th>6</th>\n      <td>Newham</td>\n      <td>Manor Park</td>\n      <td>TQ425855</td>\n      <td>https://tools.wmflabs.org/geohack/en/51.550401...</td>\n    </tr>\n    <tr>\n      <th>7</th>\n      <td>Newham</td>\n      <td>Maryland</td>\n      <td>TQ391849</td>\n      <td>https://tools.wmflabs.org/geohack/en/51.545857...</td>\n    </tr>\n    <tr>\n      <th>8</th>\n      <td>Newham</td>\n      <td>North Woolwich</td>\n      <td>TQ435795</td>\n      <td>https://tools.wmflabs.org/geohack/en/51.496234...</td>\n    </tr>\n    <tr>\n      <th>9</th>\n      <td>Newham</td>\n      <td>Plaistow</td>\n      <td>TQ405825</td>\n      <td>https://tools.wmflabs.org/geohack/en/51.523944...</td>\n    </tr>\n    <tr>\n      <th>10</th>\n      <td>Newham</td>\n      <td>Silvertown</td>\n      <td>TQ415795</td>\n      <td>https://tools.wmflabs.org/geohack/en/51.496738...</td>\n    </tr>\n    <tr>\n      <th>11</th>\n      <td>Newham</td>\n      <td>Stratford</td>\n      <td>TQ385845</td>\n      <td>https://tools.wmflabs.org/geohack/en/51.542410...</td>\n    </tr>\n    <tr>\n      <th>12</th>\n      <td>Newham</td>\n      <td>Upton Park</td>\n      <td>TQ405837</td>\n      <td>https://tools.wmflabs.org/geohack/en/51.534727...</td>\n    </tr>\n    <tr>\n      <th>13</th>\n      <td>Newham</td>\n      <td>West Ham</td>\n      <td>TQ405837</td>\n      <td>https://tools.wmflabs.org/geohack/en/51.534727...</td>\n    </tr>\n    <tr>\n      <th>14</th>\n      <td>NaN</td>\n      <td>NaN</td>\n      <td>NaN</td>\n      <td>https://tools.wmflabs.org/geohack/en/51.496234...</td>\n    </tr>\n  </tbody>\n</table>\n</div>",
                        "text/plain": "   Borough            Area      Code  \\\n0   Newham         Beckton  TQ435815   \n1   Newham    Canning Town  TQ405815   \n2   Newham    Custom House  TQ408807   \n3   Newham        East Ham  TQ425835   \n4   Newham     Forest Gate  TQ405855   \n5   Newham   Little Ilford  TQ435855   \n6   Newham      Manor Park  TQ425855   \n7   Newham        Maryland  TQ391849   \n8   Newham  North Woolwich  TQ435795   \n9   Newham        Plaistow  TQ405825   \n10  Newham      Silvertown  TQ415795   \n11  Newham       Stratford  TQ385845   \n12  Newham      Upton Park  TQ405837   \n13  Newham        West Ham  TQ405837   \n14     NaN             NaN       NaN   \n\n                                                 href  \n0   https://tools.wmflabs.org/geohack/en/51.514205...  \n1   https://tools.wmflabs.org/geohack/en/51.514959...  \n2   https://tools.wmflabs.org/geohack/en/51.507695...  \n3   https://tools.wmflabs.org/geohack/en/51.532429...  \n4   https://tools.wmflabs.org/geohack/en/51.550902...  \n5   https://tools.wmflabs.org/geohack/en/51.550147...  \n6   https://tools.wmflabs.org/geohack/en/51.550401...  \n7   https://tools.wmflabs.org/geohack/en/51.545857...  \n8   https://tools.wmflabs.org/geohack/en/51.496234...  \n9   https://tools.wmflabs.org/geohack/en/51.523944...  \n10  https://tools.wmflabs.org/geohack/en/51.496738...  \n11  https://tools.wmflabs.org/geohack/en/51.542410...  \n12  https://tools.wmflabs.org/geohack/en/51.534727...  \n13  https://tools.wmflabs.org/geohack/en/51.534727...  \n14  https://tools.wmflabs.org/geohack/en/51.496234...  "
                    },
                    "execution_count": 28,
                    "metadata": {},
                    "output_type": "execute_result"
                }
            ],
            "source": "df_areas_links = pd.concat([df_areas, df_links[cols]], axis=1)\nprint(df_areas_links.shape)\ndf_areas_links"
        },
        {
            "cell_type": "markdown",
            "metadata": {},
            "source": "#### Remove the row where there is no data"
        },
        {
            "cell_type": "code",
            "execution_count": 29,
            "metadata": {},
            "outputs": [
                {
                    "data": {
                        "text/html": "<div>\n<style scoped>\n    .dataframe tbody tr th:only-of-type {\n        vertical-align: middle;\n    }\n\n    .dataframe tbody tr th {\n        vertical-align: top;\n    }\n\n    .dataframe thead th {\n        text-align: right;\n    }\n</style>\n<table border=\"1\" class=\"dataframe\">\n  <thead>\n    <tr style=\"text-align: right;\">\n      <th></th>\n      <th>Borough</th>\n      <th>Area</th>\n      <th>Code</th>\n      <th>href</th>\n    </tr>\n  </thead>\n  <tbody>\n    <tr>\n      <th>0</th>\n      <td>Newham</td>\n      <td>Beckton</td>\n      <td>TQ435815</td>\n      <td>https://tools.wmflabs.org/geohack/en/51.514205...</td>\n    </tr>\n    <tr>\n      <th>1</th>\n      <td>Newham</td>\n      <td>Canning Town</td>\n      <td>TQ405815</td>\n      <td>https://tools.wmflabs.org/geohack/en/51.514959...</td>\n    </tr>\n    <tr>\n      <th>2</th>\n      <td>Newham</td>\n      <td>Custom House</td>\n      <td>TQ408807</td>\n      <td>https://tools.wmflabs.org/geohack/en/51.507695...</td>\n    </tr>\n    <tr>\n      <th>3</th>\n      <td>Newham</td>\n      <td>East Ham</td>\n      <td>TQ425835</td>\n      <td>https://tools.wmflabs.org/geohack/en/51.532429...</td>\n    </tr>\n    <tr>\n      <th>4</th>\n      <td>Newham</td>\n      <td>Forest Gate</td>\n      <td>TQ405855</td>\n      <td>https://tools.wmflabs.org/geohack/en/51.550902...</td>\n    </tr>\n    <tr>\n      <th>5</th>\n      <td>Newham</td>\n      <td>Little Ilford</td>\n      <td>TQ435855</td>\n      <td>https://tools.wmflabs.org/geohack/en/51.550147...</td>\n    </tr>\n    <tr>\n      <th>6</th>\n      <td>Newham</td>\n      <td>Manor Park</td>\n      <td>TQ425855</td>\n      <td>https://tools.wmflabs.org/geohack/en/51.550401...</td>\n    </tr>\n    <tr>\n      <th>7</th>\n      <td>Newham</td>\n      <td>Maryland</td>\n      <td>TQ391849</td>\n      <td>https://tools.wmflabs.org/geohack/en/51.545857...</td>\n    </tr>\n    <tr>\n      <th>8</th>\n      <td>Newham</td>\n      <td>North Woolwich</td>\n      <td>TQ435795</td>\n      <td>https://tools.wmflabs.org/geohack/en/51.496234...</td>\n    </tr>\n    <tr>\n      <th>9</th>\n      <td>Newham</td>\n      <td>Plaistow</td>\n      <td>TQ405825</td>\n      <td>https://tools.wmflabs.org/geohack/en/51.523944...</td>\n    </tr>\n    <tr>\n      <th>10</th>\n      <td>Newham</td>\n      <td>Silvertown</td>\n      <td>TQ415795</td>\n      <td>https://tools.wmflabs.org/geohack/en/51.496738...</td>\n    </tr>\n    <tr>\n      <th>11</th>\n      <td>Newham</td>\n      <td>Stratford</td>\n      <td>TQ385845</td>\n      <td>https://tools.wmflabs.org/geohack/en/51.542410...</td>\n    </tr>\n    <tr>\n      <th>12</th>\n      <td>Newham</td>\n      <td>Upton Park</td>\n      <td>TQ405837</td>\n      <td>https://tools.wmflabs.org/geohack/en/51.534727...</td>\n    </tr>\n    <tr>\n      <th>13</th>\n      <td>Newham</td>\n      <td>West Ham</td>\n      <td>TQ405837</td>\n      <td>https://tools.wmflabs.org/geohack/en/51.534727...</td>\n    </tr>\n  </tbody>\n</table>\n</div>",
                        "text/plain": "   Borough            Area      Code  \\\n0   Newham         Beckton  TQ435815   \n1   Newham    Canning Town  TQ405815   \n2   Newham    Custom House  TQ408807   \n3   Newham        East Ham  TQ425835   \n4   Newham     Forest Gate  TQ405855   \n5   Newham   Little Ilford  TQ435855   \n6   Newham      Manor Park  TQ425855   \n7   Newham        Maryland  TQ391849   \n8   Newham  North Woolwich  TQ435795   \n9   Newham        Plaistow  TQ405825   \n10  Newham      Silvertown  TQ415795   \n11  Newham       Stratford  TQ385845   \n12  Newham      Upton Park  TQ405837   \n13  Newham        West Ham  TQ405837   \n\n                                                 href  \n0   https://tools.wmflabs.org/geohack/en/51.514205...  \n1   https://tools.wmflabs.org/geohack/en/51.514959...  \n2   https://tools.wmflabs.org/geohack/en/51.507695...  \n3   https://tools.wmflabs.org/geohack/en/51.532429...  \n4   https://tools.wmflabs.org/geohack/en/51.550902...  \n5   https://tools.wmflabs.org/geohack/en/51.550147...  \n6   https://tools.wmflabs.org/geohack/en/51.550401...  \n7   https://tools.wmflabs.org/geohack/en/51.545857...  \n8   https://tools.wmflabs.org/geohack/en/51.496234...  \n9   https://tools.wmflabs.org/geohack/en/51.523944...  \n10  https://tools.wmflabs.org/geohack/en/51.496738...  \n11  https://tools.wmflabs.org/geohack/en/51.542410...  \n12  https://tools.wmflabs.org/geohack/en/51.534727...  \n13  https://tools.wmflabs.org/geohack/en/51.534727...  "
                    },
                    "execution_count": 29,
                    "metadata": {},
                    "output_type": "execute_result"
                }
            ],
            "source": "df_areas_links = df_areas_links.dropna(how='any')\ndf_areas_links"
        },
        {
            "cell_type": "markdown",
            "metadata": {},
            "source": "### Get the geo co-ordinates for all the areas in the Newham borough"
        },
        {
            "cell_type": "code",
            "execution_count": 30,
            "metadata": {},
            "outputs": [
                {
                    "name": "stdout",
                    "output_type": "stream",
                    "text": "[('TQ435815', 51.514206, 0.066634), ('TQ405815', 51.514959, 0.023429), ('TQ408807', 51.507696, 0.027431), ('TQ425835', 51.53243, 0.053041), ('TQ405855', 51.550902, 0.025024), ('TQ435855', 51.550148, 0.068263), ('TQ425855', 51.550401, 0.05385), ('TQ391849', 51.545857, 0.004608), ('TQ435795', 51.496234, 0.065821), ('TQ405825', 51.523945, 0.023828), ('TQ415795', 51.496738, 0.037029), ('TQ385845', 51.54241, -0.004196), ('TQ405837', 51.534728, 0.024306), ('TQ405837', 51.534728, 0.024306)]\n"
                }
            ],
            "source": "geo_codes = []\nfor row in df_areas_links.itertuples():\n    url = row.href\n    code = row.Code\n    res = requests.get(url).text\n    soup1 = BeautifulSoup(res,'lxml')\n    \n    for lat in soup1.find('span',{'class':'latitude'}):\n        latitude = lat\n        latitude = float(latitude)\n            \n    for long in soup1.find('span',{'class':'longitude'}):    \n        longitude = long\n        longitude = float(longitude)\n        \n    geo_codes.append((code, latitude, longitude))\n\nprint(geo_codes)"
        },
        {
            "cell_type": "markdown",
            "metadata": {},
            "source": "#### Create a DataFrame from the above list"
        },
        {
            "cell_type": "code",
            "execution_count": 31,
            "metadata": {},
            "outputs": [
                {
                    "data": {
                        "text/html": "<div>\n<style scoped>\n    .dataframe tbody tr th:only-of-type {\n        vertical-align: middle;\n    }\n\n    .dataframe tbody tr th {\n        vertical-align: top;\n    }\n\n    .dataframe thead th {\n        text-align: right;\n    }\n</style>\n<table border=\"1\" class=\"dataframe\">\n  <thead>\n    <tr style=\"text-align: right;\">\n      <th></th>\n      <th>Code</th>\n      <th>Latitude</th>\n      <th>Longitude</th>\n    </tr>\n  </thead>\n  <tbody>\n    <tr>\n      <th>0</th>\n      <td>TQ435815</td>\n      <td>51.514206</td>\n      <td>0.066634</td>\n    </tr>\n    <tr>\n      <th>1</th>\n      <td>TQ405815</td>\n      <td>51.514959</td>\n      <td>0.023429</td>\n    </tr>\n    <tr>\n      <th>2</th>\n      <td>TQ408807</td>\n      <td>51.507696</td>\n      <td>0.027431</td>\n    </tr>\n    <tr>\n      <th>3</th>\n      <td>TQ425835</td>\n      <td>51.532430</td>\n      <td>0.053041</td>\n    </tr>\n    <tr>\n      <th>4</th>\n      <td>TQ405855</td>\n      <td>51.550902</td>\n      <td>0.025024</td>\n    </tr>\n    <tr>\n      <th>5</th>\n      <td>TQ435855</td>\n      <td>51.550148</td>\n      <td>0.068263</td>\n    </tr>\n    <tr>\n      <th>6</th>\n      <td>TQ425855</td>\n      <td>51.550401</td>\n      <td>0.053850</td>\n    </tr>\n    <tr>\n      <th>7</th>\n      <td>TQ391849</td>\n      <td>51.545857</td>\n      <td>0.004608</td>\n    </tr>\n    <tr>\n      <th>8</th>\n      <td>TQ435795</td>\n      <td>51.496234</td>\n      <td>0.065821</td>\n    </tr>\n    <tr>\n      <th>9</th>\n      <td>TQ405825</td>\n      <td>51.523945</td>\n      <td>0.023828</td>\n    </tr>\n    <tr>\n      <th>10</th>\n      <td>TQ415795</td>\n      <td>51.496738</td>\n      <td>0.037029</td>\n    </tr>\n    <tr>\n      <th>11</th>\n      <td>TQ385845</td>\n      <td>51.542410</td>\n      <td>-0.004196</td>\n    </tr>\n    <tr>\n      <th>12</th>\n      <td>TQ405837</td>\n      <td>51.534728</td>\n      <td>0.024306</td>\n    </tr>\n    <tr>\n      <th>13</th>\n      <td>TQ405837</td>\n      <td>51.534728</td>\n      <td>0.024306</td>\n    </tr>\n  </tbody>\n</table>\n</div>",
                        "text/plain": "        Code   Latitude  Longitude\n0   TQ435815  51.514206   0.066634\n1   TQ405815  51.514959   0.023429\n2   TQ408807  51.507696   0.027431\n3   TQ425835  51.532430   0.053041\n4   TQ405855  51.550902   0.025024\n5   TQ435855  51.550148   0.068263\n6   TQ425855  51.550401   0.053850\n7   TQ391849  51.545857   0.004608\n8   TQ435795  51.496234   0.065821\n9   TQ405825  51.523945   0.023828\n10  TQ415795  51.496738   0.037029\n11  TQ385845  51.542410  -0.004196\n12  TQ405837  51.534728   0.024306\n13  TQ405837  51.534728   0.024306"
                    },
                    "execution_count": 31,
                    "metadata": {},
                    "output_type": "execute_result"
                }
            ],
            "source": "df_geo_codes = pd.DataFrame(geo_codes, columns=['Code','Latitude','Longitude'])\ndf_geo_codes"
        },
        {
            "cell_type": "markdown",
            "metadata": {},
            "source": "#### Now merge the Neighborhoods and Geocodes DataFrames"
        },
        {
            "cell_type": "code",
            "execution_count": 32,
            "metadata": {},
            "outputs": [
                {
                    "name": "stdout",
                    "output_type": "stream",
                    "text": "Index(['Borough', 'Area', 'Code'], dtype='object')\n(14, 3)\nIndex(['Code', 'Latitude', 'Longitude'], dtype='object')\n(14, 3)\n"
                }
            ],
            "source": "print(df_areas.columns)\nprint(df_areas.shape)\nprint(df_geo_codes.columns)\nprint(df_geo_codes.shape)"
        },
        {
            "cell_type": "code",
            "execution_count": 33,
            "metadata": {},
            "outputs": [
                {
                    "data": {
                        "text/plain": "Index(['Latitude', 'Longitude'], dtype='object')"
                    },
                    "execution_count": 33,
                    "metadata": {},
                    "output_type": "execute_result"
                }
            ],
            "source": "cols = df_geo_codes.columns.difference(df_areas.columns)\ncols"
        },
        {
            "cell_type": "code",
            "execution_count": 34,
            "metadata": {},
            "outputs": [
                {
                    "data": {
                        "text/html": "<div>\n<style scoped>\n    .dataframe tbody tr th:only-of-type {\n        vertical-align: middle;\n    }\n\n    .dataframe tbody tr th {\n        vertical-align: top;\n    }\n\n    .dataframe thead th {\n        text-align: right;\n    }\n</style>\n<table border=\"1\" class=\"dataframe\">\n  <thead>\n    <tr style=\"text-align: right;\">\n      <th></th>\n      <th>Borough</th>\n      <th>Area</th>\n      <th>Code</th>\n      <th>Latitude</th>\n      <th>Longitude</th>\n    </tr>\n  </thead>\n  <tbody>\n    <tr>\n      <th>0</th>\n      <td>Newham</td>\n      <td>Beckton</td>\n      <td>TQ435815</td>\n      <td>51.514206</td>\n      <td>0.066634</td>\n    </tr>\n    <tr>\n      <th>1</th>\n      <td>Newham</td>\n      <td>Canning Town</td>\n      <td>TQ405815</td>\n      <td>51.514959</td>\n      <td>0.023429</td>\n    </tr>\n    <tr>\n      <th>2</th>\n      <td>Newham</td>\n      <td>Custom House</td>\n      <td>TQ408807</td>\n      <td>51.507696</td>\n      <td>0.027431</td>\n    </tr>\n    <tr>\n      <th>3</th>\n      <td>Newham</td>\n      <td>East Ham</td>\n      <td>TQ425835</td>\n      <td>51.532430</td>\n      <td>0.053041</td>\n    </tr>\n    <tr>\n      <th>4</th>\n      <td>Newham</td>\n      <td>Forest Gate</td>\n      <td>TQ405855</td>\n      <td>51.550902</td>\n      <td>0.025024</td>\n    </tr>\n  </tbody>\n</table>\n</div>",
                        "text/plain": "  Borough          Area      Code   Latitude  Longitude\n0  Newham       Beckton  TQ435815  51.514206   0.066634\n1  Newham  Canning Town  TQ405815  51.514959   0.023429\n2  Newham  Custom House  TQ408807  51.507696   0.027431\n3  Newham      East Ham  TQ425835  51.532430   0.053041\n4  Newham   Forest Gate  TQ405855  51.550902   0.025024"
                    },
                    "execution_count": 34,
                    "metadata": {},
                    "output_type": "execute_result"
                }
            ],
            "source": "Newham_borough = pd.concat([df_areas, df_geo_codes[cols]], axis=1)\nNewham_borough.head()"
        },
        {
            "cell_type": "markdown",
            "metadata": {},
            "source": "#### Change the name of the column 'Area' to 'Neighborhood '"
        },
        {
            "cell_type": "code",
            "execution_count": 35,
            "metadata": {},
            "outputs": [],
            "source": "Newham_borough = Newham_borough.rename(columns={'Area' :'Neighborhood'})"
        },
        {
            "cell_type": "markdown",
            "metadata": {},
            "source": "#### We do not need the column Code for our further analysis, so we will drop it"
        },
        {
            "cell_type": "code",
            "execution_count": 36,
            "metadata": {},
            "outputs": [
                {
                    "name": "stdout",
                    "output_type": "stream",
                    "text": "Index(['Borough', 'Neighborhood', 'Latitude', 'Longitude'], dtype='object')\n"
                },
                {
                    "data": {
                        "text/html": "<div>\n<style scoped>\n    .dataframe tbody tr th:only-of-type {\n        vertical-align: middle;\n    }\n\n    .dataframe tbody tr th {\n        vertical-align: top;\n    }\n\n    .dataframe thead th {\n        text-align: right;\n    }\n</style>\n<table border=\"1\" class=\"dataframe\">\n  <thead>\n    <tr style=\"text-align: right;\">\n      <th></th>\n      <th>Borough</th>\n      <th>Neighborhood</th>\n      <th>Latitude</th>\n      <th>Longitude</th>\n    </tr>\n  </thead>\n  <tbody>\n    <tr>\n      <th>0</th>\n      <td>Newham</td>\n      <td>Beckton</td>\n      <td>51.514206</td>\n      <td>0.066634</td>\n    </tr>\n    <tr>\n      <th>1</th>\n      <td>Newham</td>\n      <td>Canning Town</td>\n      <td>51.514959</td>\n      <td>0.023429</td>\n    </tr>\n    <tr>\n      <th>2</th>\n      <td>Newham</td>\n      <td>Custom House</td>\n      <td>51.507696</td>\n      <td>0.027431</td>\n    </tr>\n    <tr>\n      <th>3</th>\n      <td>Newham</td>\n      <td>East Ham</td>\n      <td>51.532430</td>\n      <td>0.053041</td>\n    </tr>\n    <tr>\n      <th>4</th>\n      <td>Newham</td>\n      <td>Forest Gate</td>\n      <td>51.550902</td>\n      <td>0.025024</td>\n    </tr>\n  </tbody>\n</table>\n</div>",
                        "text/plain": "  Borough  Neighborhood   Latitude  Longitude\n0  Newham       Beckton  51.514206   0.066634\n1  Newham  Canning Town  51.514959   0.023429\n2  Newham  Custom House  51.507696   0.027431\n3  Newham      East Ham  51.532430   0.053041\n4  Newham   Forest Gate  51.550902   0.025024"
                    },
                    "execution_count": 36,
                    "metadata": {},
                    "output_type": "execute_result"
                }
            ],
            "source": "Newham_borough.drop(['Code'], axis=1, inplace=True)\nprint(Newham_borough.columns)\nNewham_borough.head()"
        },
        {
            "cell_type": "code",
            "execution_count": 37,
            "metadata": {},
            "outputs": [
                {
                    "data": {
                        "text/plain": "Borough          object\nNeighborhood     object\nLatitude        float64\nLongitude       float64\ndtype: object"
                    },
                    "execution_count": 37,
                    "metadata": {},
                    "output_type": "execute_result"
                }
            ],
            "source": "Newham_borough.dtypes"
        },
        {
            "cell_type": "markdown",
            "metadata": {},
            "source": "# End of DATA SECTION"
        }
    ],
    "metadata": {
        "kernelspec": {
            "display_name": "Python 3.6",
            "language": "python",
            "name": "python3"
        },
        "language_info": {
            "codemirror_mode": {
                "name": "ipython",
                "version": 3
            },
            "file_extension": ".py",
            "mimetype": "text/x-python",
            "name": "python",
            "nbconvert_exporter": "python",
            "pygments_lexer": "ipython3",
            "version": "3.6.9"
        }
    },
    "nbformat": 4,
    "nbformat_minor": 1
}